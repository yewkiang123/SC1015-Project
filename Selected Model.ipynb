{
 "cells": [
  {
   "attachments": {},
   "cell_type": "markdown",
   "metadata": {},
   "source": [
    "### XGBoost\n",
    "\n",
    "TODO:\n",
    "- Reason why this Machine Learning Model is better\n",
    "    - Evaluation Metric\n",
    "    - How this model works\n",
    "- Perform machine learning on individual predictors\n",
    "- Optional: Can try predicting using sub-groups of predictors\n",
    "- Determine which predictor is better\n",
    "- Reason why this predictor is better - Using evaluation metrics\n",
    "- Conclusion\n",
    "    - How does these findings answer our question"
   ]
  }
 ],
 "metadata": {
  "language_info": {
   "name": "python"
  },
  "orig_nbformat": 4
 },
 "nbformat": 4,
 "nbformat_minor": 2
}
