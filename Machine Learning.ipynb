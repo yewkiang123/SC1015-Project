{
 "cells": [
  {
   "cell_type": "code",
   "execution_count": 1,
   "metadata": {},
   "outputs": [],
   "source": [
    "# Basic Libraries\n",
    "import numpy as np\n",
    "import pandas as pd\n",
    "import seaborn as sb\n",
    "import matplotlib.pyplot as plt\n",
    "sb.set()\n",
    "sb.set_palette(sb.color_palette(\"Set2\"))\n",
    "\n",
    "# Additional Libraries\n",
    "from sklearn.model_selection import train_test_split, cross_val_score\n",
    "from sklearn.linear_model import LogisticRegression\n",
    "from sklearn.tree import DecisionTreeClassifier\n",
    "from sklearn.ensemble import RandomForestClassifier, AdaBoostClassifier\n",
    "from sklearn.metrics import confusion_matrix, f1_score, precision_score, recall_score\n",
    "import xgboost as xgb # Run \"!pip install xgboost\"\n",
    "\n",
    "# Import the Dataset\n",
    "df = pd.read_csv('datasets/student-dropout-academic-success-raw.csv')\n",
    "clean_df = df.drop(df[df.Target == \"Enrolled\"].index)\n",
    "student_df = clean_df.iloc[:,[1, 13, 14, 15, 16, 17, 22, 23, 28, 29, 34]].copy()\n",
    "student_df[\"Target\"] = student_df[\"Target\"].map({\n",
    "    \"Dropout\": 1,\n",
    "    \"Graduate\": 0\n",
    "})"
   ]
  },
  {
   "cell_type": "code",
   "execution_count": 2,
   "metadata": {},
   "outputs": [],
   "source": [
    "predictors = student_df.iloc[:, 0:10] # Predictors\n",
    "response = student_df.iloc[:, -1] # Response = Target\n",
    "\n",
    "# Partition Dataset into 2 random portions - 80% Train, 20% Test\n",
    "predictors_train, predictors_test, response_train, response_test = train_test_split(predictors, response, test_size = 0.2)"
   ]
  },
  {
   "cell_type": "code",
   "execution_count": 3,
   "metadata": {},
   "outputs": [
    {
     "name": "stdout",
     "output_type": "stream",
     "text": [
      "Train Set : (2904, 10) (2904,)\n",
      "Test Set  : (726, 10) (726,)\n"
     ]
    }
   ],
   "source": [
    "# Check sample sizes\n",
    "print(\"Train Set :\", predictors_train.shape, response_train.shape)\n",
    "print(\"Test Set  :\", predictors_test.shape, response_test.shape)"
   ]
  },
  {
   "attachments": {},
   "cell_type": "markdown",
   "metadata": {},
   "source": [
    "#### Machine Learning Model\n",
    "\n",
    "**Models:**\n",
    "- Logistic Regression\n",
    "- Decision Tree Classifier\n",
    "- Random Forest Classifier\n",
    "- AdaBoost\n",
    "- XGBoost\n",
    "\n",
    "**Metric:**\n",
    "- Accuracy Score with CV\n",
    "- Precision Score\n",
    "- Recall Score\n",
    "- Explained Variance (R^2)\n",
    "- Root Mean Squared Error (RMSE)"
   ]
  },
  {
   "attachments": {},
   "cell_type": "markdown",
   "metadata": {},
   "source": [
    "#### Logistic Regression"
   ]
  },
  {
   "cell_type": "code",
   "execution_count": null,
   "metadata": {},
   "outputs": [],
   "source": [
    "logreg = LogisticRegression(solver='lbfgs', max_iter=1000)\n",
    "logreg.fit(predictors_train, response_train)"
   ]
  },
  {
   "cell_type": "code",
   "execution_count": null,
   "metadata": {},
   "outputs": [],
   "source": [
    "# Coefficients of the Logistic Regression line\n",
    "print('Coefficients \\t: a = ', logreg.coef_)\n",
    "print('Intercept \\t: b = ', logreg.intercept_)"
   ]
  },
  {
   "cell_type": "code",
   "execution_count": null,
   "metadata": {},
   "outputs": [],
   "source": [
    "response_train_pred = logreg.predict(predictors_train)\n",
    "response_test_pred = logreg.predict(predictors_test)"
   ]
  },
  {
   "cell_type": "code",
   "execution_count": null,
   "metadata": {},
   "outputs": [],
   "source": [
    "# TODO: Plot confusion matrix"
   ]
  },
  {
   "cell_type": "code",
   "execution_count": null,
   "metadata": {},
   "outputs": [],
   "source": [
    "\n",
    "scores = cross_val_score(logreg, predictors_train, response_train, cv=10)\n",
    "mse_train = np.mean(np.square(np.array(response_train) - np.array(response_train_pred)))\n",
    "\n",
    "print(\"Explained Variance (R^2):\", logreg.score(predictors_train, response_train))\n",
    "print(\"Mean Squared Error (MSE):\", mse_train)\n",
    "print(\"Root Mean Squared Error (RMSE):\", np.sqrt(mse_train), \"\\n\")\n",
    "\n",
    "print(\"Accuracy Score without CV: \",accuracy_score(response_test, response_test_pred))\n",
    "print(\"Accuracy Score with CV: \",scores.mean())\n",
    "print(\"Precision Score: \", precision_score(response_test, response_test_pred, average = 'macro'))\n",
    "print(\"Recall Score: \", recall_score(response_test, response_test_pred, average = 'macro'))\n",
    "print(\"F1 Score: \", f1_score(response_test, response_test_pred, average = 'macro'))"
   ]
  },
  {
   "attachments": {},
   "cell_type": "markdown",
   "metadata": {},
   "source": [
    "#### Decision Tree Classifier"
   ]
  },
  {
   "cell_type": "code",
   "execution_count": null,
   "metadata": {},
   "outputs": [],
   "source": [
    "dectree = DecisionTreeClassifier()\n",
    "dectree.fit(predictors_train, response_train)"
   ]
  },
  {
   "cell_type": "code",
   "execution_count": null,
   "metadata": {},
   "outputs": [],
   "source": [
    "response_train_pred = dectree.predict(predictors_train)\n",
    "response_test_pred = dectree.predict(predictors_test)"
   ]
  },
  {
   "cell_type": "code",
   "execution_count": null,
   "metadata": {},
   "outputs": [],
   "source": [
    "scores = cross_val_score(dectree, predictors_train, response_train, cv=10)\n",
    "mse_train = np.mean(np.square(np.array(response_train) - np.array(response_train_pred)))\n",
    "\n",
    "print(\"Explained Variance (R^2):\", dectree.score(predictors_train, response_train))\n",
    "#print(\"Mean Squared Error (MSE):\", mse_train)\n",
    "print(\"Root Mean Squared Error (RMSE):\", np.sqrt(mse_train), \"\\n\")\n",
    "\n",
    "#print(\"Accuracy Score without CV: \",accuracy_score(response_test, response_test_pred))\n",
    "print(\"Accuracy Score with CV: \",scores.mean())\n",
    "print(\"Precision Score: \", precision_score(response_test, response_test_pred, average = 'macro'))\n",
    "print(\"Recall Score: \", recall_score(response_test, response_test_pred, average = 'macro'))\n",
    "#print(\"F1 Score: \", f1_score(response_test, response_test_pred, average = 'macro'))"
   ]
  },
  {
   "attachments": {},
   "cell_type": "markdown",
   "metadata": {},
   "source": [
    "#### Random Forest Classifier"
   ]
  },
  {
   "cell_type": "code",
   "execution_count": null,
   "metadata": {},
   "outputs": [],
   "source": [
    "randfclf = RandomForestClassifier(max_depth = 10, random_state = 0)\n",
    "randfclf.fit(predictors_train, response_train)"
   ]
  },
  {
   "cell_type": "code",
   "execution_count": null,
   "metadata": {},
   "outputs": [],
   "source": [
    "response_train_pred = randfclf.predict(predictors_train)\n",
    "response_test_pred = randfclf.predict(predictors_test)"
   ]
  },
  {
   "cell_type": "code",
   "execution_count": null,
   "metadata": {},
   "outputs": [],
   "source": [
    "scores = cross_val_score(randfclf, predictors_train, response_train, cv=10)\n",
    "mse_train = np.mean(np.square(np.array(response_train) - np.array(response_train_pred)))\n",
    "\n",
    "print(\"Explained Variance (R^2):\", randfclf.score(predictors_train, response_train))\n",
    "print(\"Mean Squared Error (MSE):\", mse_train)\n",
    "print(\"Root Mean Squared Error (RMSE):\", np.sqrt(mse_train), \"\\n\")\n",
    "\n",
    "print(\"Accuracy Score without CV: \",accuracy_score(response_test, response_test_pred))\n",
    "print(\"Accuracy Score with CV: \",scores.mean())\n",
    "print(\"Precision Score: \", precision_score(response_test, response_test_pred, average = 'macro'))\n",
    "print(\"Recall Score: \", recall_score(response_test, response_test_pred, average = 'macro'))\n",
    "print(\"F1 Score: \", f1_score(response_test, response_test_pred, average = 'macro'))"
   ]
  },
  {
   "cell_type": "code",
   "execution_count": null,
   "metadata": {},
   "outputs": [],
   "source": [
    "clf.feature_importance_"
   ]
  },
  {
   "attachments": {},
   "cell_type": "markdown",
   "metadata": {},
   "source": [
    "#### AdaBoost"
   ]
  },
  {
   "cell_type": "code",
   "execution_count": 4,
   "metadata": {},
   "outputs": [],
   "source": [
    "# Create AdaBoost model and fit it to the training data\n",
    "ada = AdaBoostClassifier(n_estimators = 100, learning_rate = 1)\n",
    "ada.fit(predictors_train, response_train)\n",
    "\n",
    "# Predict on test set\n",
    "ada_response_test_pred = ada.predict(predictors_test)"
   ]
  },
  {
   "cell_type": "code",
   "execution_count": 5,
   "metadata": {},
   "outputs": [
    {
     "data": {
      "image/png": "[encoded data removed]",
      "text/plain": [
       "<Figure size 640x480 with 2 Axes>"
      ]
     },
     "metadata": {},
     "output_type": "display_data"
    }
   ],
   "source": [
    "# Plot Confusion Matrix for AdaBoost Machine Learning Model\n",
    "sb.heatmap(confusion_matrix(response_test, ada_response_test_pred), annot = True, fmt = 'g')\n",
    "plt.xlabel('Predicted')\n",
    "plt.ylabel('Actual')\n",
    "plt.title('Confusion matrix for AdaBoost')\n",
    "plt.show()"
   ]
  },
  {
   "cell_type": "code",
   "execution_count": 6,
   "metadata": {},
   "outputs": [
    {
     "name": "stdout",
     "output_type": "stream",
     "text": [
      "AdaBoost Machine Learning Model\n",
      "\n",
      "Explained Variance (R^2):\t 0.8829201101928374\n",
      "Root Mean Squared Error (RMSE):\t 0.34216938759503684\n",
      "Accuracy Score with CV:\t\t 0.8895316804407714\n",
      "Precision Score:\t\t 0.879121857994299\n",
      "Recall Score:\t\t\t 0.8734336239421229\n"
     ]
    }
   ],
   "source": [
    "# Evaluate Evaluation Metrics\n",
    "ada_scores = cross_val_score(ada, predictors, response, cv = 10, scoring = \"accuracy\")\n",
    "ada_mse = np.mean(np.square(np.array(response_test) - np.array(ada_response_test_pred)))\n",
    "\n",
    "print(\"AdaBoost Machine Learning Model\\n\")\n",
    "print(\"Explained Variance (R^2):\\t\", ada.score(predictors_test, response_test))\n",
    "print(\"Root Mean Squared Error (RMSE):\\t\", np.sqrt(ada_mse))\n",
    "print(\"Accuracy Score with CV:\\t\\t\", ada_scores.mean())\n",
    "print(\"Precision Score:\\t\\t\", precision_score(response_test, ada_response_test_pred, average = \"macro\"))\n",
    "print(\"Recall Score:\\t\\t\\t\", recall_score(response_test, ada_response_test_pred, average = \"macro\"))"
   ]
  },
  {
   "attachments": {},
   "cell_type": "markdown",
   "metadata": {},
   "source": [
    "#### XGBoost"
   ]
  },
  {
   "cell_type": "code",
   "execution_count": 7,
   "metadata": {},
   "outputs": [],
   "source": [
    "# Create XGBoost model and fit it to the training data\n",
    "xg = xgb.XGBClassifier(learning_rate = 0.1, n_estimators = 100)\n",
    "xg.fit(predictors_train, response_train)\n",
    "\n",
    "# Predict on test set\n",
    "xg_response_test_pred = xg.predict(predictors_test)"
   ]
  },
  {
   "cell_type": "code",
   "execution_count": 8,
   "metadata": {},
   "outputs": [
    {
     "data": {
      "image/png": "[encoded data removed]",
      "text/plain": [
       "<Figure size 640x480 with 2 Axes>"
      ]
     },
     "metadata": {},
     "output_type": "display_data"
    }
   ],
   "source": [
    "# Plot Confusion Matrix for XGBoost Machine Learning Model\n",
    "sb.heatmap(confusion_matrix(response_test, xg_response_test_pred), annot = True, fmt = 'g')\n",
    "plt.xlabel('Predicted')\n",
    "plt.ylabel('Actual')\n",
    "plt.title('Confusion matrix for XGBoost')\n",
    "plt.show()"
   ]
  },
  {
   "cell_type": "code",
   "execution_count": 9,
   "metadata": {},
   "outputs": [
    {
     "name": "stdout",
     "output_type": "stream",
     "text": [
      "XGBoost Machine Learning Model\n",
      "\n",
      "Explained Variance (R^2):\t 0.8953168044077136\n",
      "Root Mean Squared Error (RMSE):\t 0.32354782581913066\n",
      "Accuracy Score with CV:\t\t 0.8955922865013773\n",
      "Precision Score:\t\t 0.8955876900259547\n",
      "Recall Score:\t\t\t 0.8829535212054016\n"
     ]
    }
   ],
   "source": [
    "# Evaluate Evaluation Metrics\n",
    "xg_scores = cross_val_score(xg, predictors, response, cv = 10, scoring = \"accuracy\")\n",
    "xg_mse = np.mean(np.square(np.array(response_test) - np.array(xg_response_test_pred)))\n",
    "\n",
    "print(\"XGBoost Machine Learning Model\\n\")\n",
    "print(\"Explained Variance (R^2):\\t\", xg.score(predictors_test, response_test))\n",
    "print(\"Root Mean Squared Error (RMSE):\\t\", np.sqrt(xg_mse))\n",
    "print(\"Accuracy Score with CV:\\t\\t\", xg_scores.mean())\n",
    "print(\"Precision Score:\\t\\t\", precision_score(response_test, xg_response_test_pred, average = \"macro\"))\n",
    "print(\"Recall Score:\\t\\t\\t\", recall_score(response_test, xg_response_test_pred, average = \"macro\"))"
   ]
  }
 ],
 "metadata": {
  "kernelspec": {
   "display_name": "Python 3 (ipykernel)",
   "language": "python",
   "name": "python3"
  },
  "language_info": {
   "codemirror_mode": {
    "name": "ipython",
    "version": 3
   },
   "file_extension": ".py",
   "mimetype": "text/x-python",
   "name": "python",
   "nbconvert_exporter": "python",
   "pygments_lexer": "ipython3",
   "version": "3.9.13"
  },
  "orig_nbformat": 4
 },
 "nbformat": 4,
 "nbformat_minor": 2
}
